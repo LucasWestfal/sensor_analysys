{
 "cells": [
  {
   "cell_type": "markdown",
   "id": "c6978086-a823-4a36-9bde-bf019fbdccdc",
   "metadata": {},
   "source": [
    "# Modelo 1\n",
    "\n",
    "## Nesse modelo, "
   ]
  },
  {
   "cell_type": "code",
   "execution_count": null,
   "id": "1afa5ea9-1dd7-48e6-a720-ecf32881608a",
   "metadata": {},
   "outputs": [],
   "source": []
  }
 ],
 "metadata": {
  "kernelspec": {
   "display_name": "Python 3 (ipykernel)",
   "language": "python",
   "name": "python3"
  },
  "language_info": {
   "codemirror_mode": {
    "name": "ipython",
    "version": 3
   },
   "file_extension": ".py",
   "mimetype": "text/x-python",
   "name": "python",
   "nbconvert_exporter": "python",
   "pygments_lexer": "ipython3",
   "version": "3.10.6"
  }
 },
 "nbformat": 4,
 "nbformat_minor": 5
}
