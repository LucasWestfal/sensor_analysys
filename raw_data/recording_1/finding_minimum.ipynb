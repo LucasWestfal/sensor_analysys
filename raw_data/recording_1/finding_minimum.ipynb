{
 "cells": [
  {
   "cell_type": "markdown",
   "id": "84766740-3b52-4a23-b3dc-e1b14ce34aee",
   "metadata": {},
   "source": [
    "# Aqui eu mostro que existe mínimo global na função de erro do modelo 2.\n",
    "\n",
    "## Deu problema, dar uma olhada depois"
   ]
  },
  {
   "cell_type": "code",
   "execution_count": 14,
   "id": "01e954b4-342f-4125-9e51-08e1241a46c1",
   "metadata": {
    "tags": []
   },
   "outputs": [],
   "source": [
    "gxi, xi, p22, theta, beta0 = var(\"gxi, xi, p22, theta, beta0\")\n",
    "\n",
    "\n",
    "f(beta0, theta) = ((gxi + p22)/cos(pi/2 - theta) - (beta0*tan(theta)*xi))^2"
   ]
  },
  {
   "cell_type": "code",
   "execution_count": 15,
   "id": "1f19175a-8fd2-4f6a-a659-0b16c3cca7f9",
   "metadata": {
    "tags": []
   },
   "outputs": [
    {
     "data": {
      "text/html": [
       "<html><script type=\"math/tex; mode=display\">\\newcommand{\\Bold}[1]{\\mathbf{#1}}\\left( \\beta_{0}, \\theta \\right) \\ {\\mapsto} \\ {\\left(\\beta_{0} \\xi \\tan\\left(\\theta\\right) - \\frac{\\mathit{gxi} + p_{22}}{\\cos\\left(\\frac{1}{2} \\, \\pi - \\theta\\right)}\\right)}^{2}</script></html>"
      ],
      "text/latex": [
       "$$\\newcommand{\\Bold}[1]{\\mathbf{#1}}\\left( \\beta_{0}, \\theta \\right) \\ {\\mapsto} \\ {\\left(\\beta_{0} \\xi \\tan\\left(\\theta\\right) - \\frac{\\mathit{gxi} + p_{22}}{\\cos\\left(\\frac{1}{2} \\, \\pi - \\theta\\right)}\\right)}^{2}$$"
      ],
      "text/plain": [
       "(beta0, theta) |--> (beta0*xi*tan(theta) - (gxi + p22)/cos(1/2*pi - theta))^2"
      ]
     },
     "metadata": {},
     "output_type": "display_data"
    }
   ],
   "source": [
    "show(f)"
   ]
  },
  {
   "cell_type": "code",
   "execution_count": 8,
   "id": "9b8fc22e-64de-4c8c-8ec1-af4e042ffe8c",
   "metadata": {
    "tags": []
   },
   "outputs": [
    {
     "data": {
      "text/plain": [
       "(beta0, theta) |--> 2*(beta0*xi*tan(theta) - (gxi + p22)/cos(1/2*pi - theta))*xi*tan(theta)"
      ]
     },
     "execution_count": 8,
     "metadata": {},
     "output_type": "execute_result"
    }
   ],
   "source": [
    "diff(f, beta0)"
   ]
  },
  {
   "cell_type": "code",
   "execution_count": 7,
   "id": "c5fe7e65-7bbd-4620-8da9-1c3cb194617c",
   "metadata": {
    "tags": []
   },
   "outputs": [
    {
     "data": {
      "text/plain": [
       "(beta0, theta) |--> 2*((tan(theta)^2 + 1)*beta0*xi + (gxi + p22)*sin(1/2*pi - theta)/cos(1/2*pi - theta)^2)*(beta0*xi*tan(theta) - (gxi + p22)/cos(1/2*pi - theta))"
      ]
     },
     "execution_count": 7,
     "metadata": {},
     "output_type": "execute_result"
    }
   ],
   "source": [
    "diff(f, theta)"
   ]
  },
  {
   "cell_type": "code",
   "execution_count": 24,
   "id": "df677f2f-d310-4681-9033-b5cc14d73c6a",
   "metadata": {
    "tags": []
   },
   "outputs": [],
   "source": [
    "list1 = solve(diff(f, theta), theta)\n",
    "list2 = solve(diff(f, beta0), beta0)"
   ]
  },
  {
   "cell_type": "code",
   "execution_count": 23,
   "id": "8f0de015-378d-473a-b3c6-4bd79cd1d509",
   "metadata": {
    "tags": []
   },
   "outputs": [
    {
     "data": {
      "text/html": [
       "<html><script type=\"math/tex; mode=display\">\\newcommand{\\Bold}[1]{\\mathbf{#1}}\\begin{array}{l}\n",
       "\\verb|[|\\\\\n",
       "\\verb|theta|\\verb| |\\verb|==|\\verb| |\\verb|1/2*pi,|\\\\\n",
       "\\verb|sqrt(beta0^2*xi^2*cos(theta)^2|\\verb| |\\verb|-|\\verb| |\\verb|4*(beta0*gxi|\\verb| |\\verb|+|\\verb| |\\verb|beta0*p22)*xi*cos(theta))|\\verb| |\\verb|==|\\verb| |\\verb|beta0*xi*cos(theta),|\\\\\n",
       "\\verb|sqrt(beta0^2*xi^2*cos(theta)^2|\\verb| |\\verb|-|\\verb| |\\verb|4*(beta0*gxi|\\verb| |\\verb|+|\\verb| |\\verb|beta0*p22)*xi*cos(theta))|\\verb| |\\verb|==|\\verb| |\\verb|-beta0*xi*cos(theta),|\\\\\n",
       "\\verb|sqrt((gxi|\\verb| |\\verb|+|\\verb| |\\verb|p22)*cos(theta)/(beta0*xi))|\\verb| |\\verb|==|\\verb| |\\verb|-sin(theta),|\\\\\n",
       "\\verb|sqrt((gxi|\\verb| |\\verb|+|\\verb| |\\verb|p22)*cos(theta)/(beta0*xi))|\\verb| |\\verb|==|\\verb| |\\verb|sin(theta)|\\\\\n",
       "\\verb|]|\n",
       "\\end{array}</script></html>"
      ],
      "text/latex": [
       "$$\\newcommand{\\Bold}[1]{\\mathbf{#1}}\\begin{array}{l}\n",
       "\\verb|[|\\\\\n",
       "\\verb|theta|\\verb| |\\verb|==|\\verb| |\\verb|1/2*pi,|\\\\\n",
       "\\verb|sqrt(beta0^2*xi^2*cos(theta)^2|\\verb| |\\verb|-|\\verb| |\\verb|4*(beta0*gxi|\\verb| |\\verb|+|\\verb| |\\verb|beta0*p22)*xi*cos(theta))|\\verb| |\\verb|==|\\verb| |\\verb|beta0*xi*cos(theta),|\\\\\n",
       "\\verb|sqrt(beta0^2*xi^2*cos(theta)^2|\\verb| |\\verb|-|\\verb| |\\verb|4*(beta0*gxi|\\verb| |\\verb|+|\\verb| |\\verb|beta0*p22)*xi*cos(theta))|\\verb| |\\verb|==|\\verb| |\\verb|-beta0*xi*cos(theta),|\\\\\n",
       "\\verb|sqrt((gxi|\\verb| |\\verb|+|\\verb| |\\verb|p22)*cos(theta)/(beta0*xi))|\\verb| |\\verb|==|\\verb| |\\verb|-sin(theta),|\\\\\n",
       "\\verb|sqrt((gxi|\\verb| |\\verb|+|\\verb| |\\verb|p22)*cos(theta)/(beta0*xi))|\\verb| |\\verb|==|\\verb| |\\verb|sin(theta)|\\\\\n",
       "\\verb|]|\n",
       "\\end{array}$$"
      ],
      "text/plain": [
       "'[\\ntheta == 1/2*pi,\\nsqrt(beta0^2*xi^2*cos(theta)^2 - 4*(beta0*gxi + beta0*p22)*xi*cos(theta)) == beta0*xi*cos(theta),\\nsqrt(beta0^2*xi^2*cos(theta)^2 - 4*(beta0*gxi + beta0*p22)*xi*cos(theta)) == -beta0*xi*cos(theta),\\nsqrt((gxi + p22)*cos(theta)/(beta0*xi)) == -sin(theta),\\nsqrt((gxi + p22)*cos(theta)/(beta0*xi)) == sin(theta)\\n]'"
      ]
     },
     "metadata": {},
     "output_type": "display_data"
    }
   ],
   "source": [
    "show(str(list1))"
   ]
  },
  {
   "cell_type": "code",
   "execution_count": 36,
   "id": "db470704-325d-40f5-afaf-603b67b1cac8",
   "metadata": {
    "tags": []
   },
   "outputs": [
    {
     "data": {
      "text/html": [
       "<html><script type=\"math/tex; mode=display\">\\newcommand{\\Bold}[1]{\\mathbf{#1}}\\left[\\beta_{0} = \\frac{\\mathit{gxi} + p_{22}}{\\xi \\sin\\left(\\theta\\right) \\tan\\left(\\theta\\right)}\\right]</script></html>"
      ],
      "text/latex": [
       "$$\\newcommand{\\Bold}[1]{\\mathbf{#1}}\\left[\\beta_{0} = \\frac{\\mathit{gxi} + p_{22}}{\\xi \\sin\\left(\\theta\\right) \\tan\\left(\\theta\\right)}\\right]$$"
      ],
      "text/plain": [
       "[beta0 == (gxi + p22)/(xi*sin(theta)*tan(theta))]"
      ]
     },
     "metadata": {},
     "output_type": "display_data"
    }
   ],
   "source": [
    "show(list2)"
   ]
  },
  {
   "cell_type": "code",
   "execution_count": 43,
   "id": "74b44d3b-3254-45f2-b40b-2651ea607f17",
   "metadata": {
    "tags": []
   },
   "outputs": [
    {
     "ename": "IndexError",
     "evalue": "list index out of range",
     "output_type": "error",
     "traceback": [
      "\u001b[0;31m---------------------------------------------------------------------------\u001b[0m",
      "\u001b[0;31mIndexError\u001b[0m                                Traceback (most recent call last)",
      "\u001b[0;32m/tmp/ipykernel_23402/1304850263.py\u001b[0m in \u001b[0;36m<module>\u001b[0;34m\u001b[0m\n\u001b[0;32m----> 1\u001b[0;31m \u001b[0mlist2\u001b[0m\u001b[0;34m[\u001b[0m\u001b[0mInteger\u001b[0m\u001b[0;34m(\u001b[0m\u001b[0;36m0\u001b[0m\u001b[0;34m)\u001b[0m\u001b[0;34m]\u001b[0m \u001b[0;34m==\u001b[0m \u001b[0mlist1\u001b[0m\u001b[0;34m[\u001b[0m\u001b[0mInteger\u001b[0m\u001b[0;34m(\u001b[0m\u001b[0;36m5\u001b[0m\u001b[0;34m)\u001b[0m\u001b[0;34m]\u001b[0m\u001b[0;34m\u001b[0m\u001b[0;34m\u001b[0m\u001b[0m\n\u001b[0m",
      "\u001b[0;32m/usr/lib/python3/dist-packages/sage/structure/sequence.py\u001b[0m in \u001b[0;36m__getitem__\u001b[0;34m(self, n)\u001b[0m\n\u001b[1;32m    525\u001b[0m                             cr = self.__cr)\n\u001b[1;32m    526\u001b[0m         \u001b[0;32melse\u001b[0m\u001b[0;34m:\u001b[0m\u001b[0;34m\u001b[0m\u001b[0;34m\u001b[0m\u001b[0m\n\u001b[0;32m--> 527\u001b[0;31m             \u001b[0;32mreturn\u001b[0m \u001b[0mlist\u001b[0m\u001b[0;34m.\u001b[0m\u001b[0m__getitem__\u001b[0m\u001b[0;34m(\u001b[0m\u001b[0mself\u001b[0m\u001b[0;34m,\u001b[0m\u001b[0mn\u001b[0m\u001b[0;34m)\u001b[0m\u001b[0;34m\u001b[0m\u001b[0;34m\u001b[0m\u001b[0m\n\u001b[0m\u001b[1;32m    528\u001b[0m \u001b[0;34m\u001b[0m\u001b[0m\n\u001b[1;32m    529\u001b[0m     \u001b[0;31m# We have to define the *slice functions as long as Sage uses Python 2.*\u001b[0m\u001b[0;34m\u001b[0m\u001b[0;34m\u001b[0m\u001b[0m\n",
      "\u001b[0;31mIndexError\u001b[0m: list index out of range"
     ]
    }
   ],
   "source": []
  },
  {
   "cell_type": "code",
   "execution_count": null,
   "id": "c958c9cc-9af5-4ac4-a04c-29c82c85d83f",
   "metadata": {},
   "outputs": [],
   "source": []
  }
 ],
 "metadata": {
  "kernelspec": {
   "display_name": "SageMath 9.5",
   "language": "sage",
   "name": "sagemath"
  },
  "language_info": {
   "codemirror_mode": {
    "name": "ipython",
    "version": 3
   },
   "file_extension": ".py",
   "mimetype": "text/x-python",
   "name": "python",
   "nbconvert_exporter": "python",
   "pygments_lexer": "ipython3",
   "version": "3.10.6"
  }
 },
 "nbformat": 4,
 "nbformat_minor": 5
}
