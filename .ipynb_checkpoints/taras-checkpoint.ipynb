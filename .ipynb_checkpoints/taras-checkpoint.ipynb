{
 "cells": [
  {
   "cell_type": "code",
   "execution_count": 1,
   "id": "3ac8e0e1-4a03-41a8-bd2e-680fbea7a9e7",
   "metadata": {
    "tags": []
   },
   "outputs": [],
   "source": [
    "import numpy as np\n",
    "import pandas as pd"
   ]
  },
  {
   "cell_type": "markdown",
   "id": "27c35f04-07d0-4441-ba32-218e05bd84cd",
   "metadata": {},
   "source": [
    "Rearanjando e limpando os dados:"
   ]
  },
  {
   "cell_type": "code",
   "execution_count": 14,
   "id": "974fe5aa-7901-4253-82d4-f195abdc9ceb",
   "metadata": {
    "tags": []
   },
   "outputs": [
    {
     "data": {
      "text/html": [
       "<div>\n",
       "<style scoped>\n",
       "    .dataframe tbody tr th:only-of-type {\n",
       "        vertical-align: middle;\n",
       "    }\n",
       "\n",
       "    .dataframe tbody tr th {\n",
       "        vertical-align: top;\n",
       "    }\n",
       "\n",
       "    .dataframe thead th {\n",
       "        text-align: right;\n",
       "    }\n",
       "</style>\n",
       "<table border=\"1\" class=\"dataframe\">\n",
       "  <thead>\n",
       "    <tr style=\"text-align: right;\">\n",
       "      <th></th>\n",
       "      <th>5</th>\n",
       "      <th>6</th>\n",
       "      <th>7</th>\n",
       "      <th>8</th>\n",
       "    </tr>\n",
       "  </thead>\n",
       "  <tbody>\n",
       "    <tr>\n",
       "      <th>0</th>\n",
       "      <td>802141</td>\n",
       "      <td>2337943</td>\n",
       "      <td>-3715136</td>\n",
       "      <td>95644</td>\n",
       "    </tr>\n",
       "    <tr>\n",
       "      <th>1</th>\n",
       "      <td>802386</td>\n",
       "      <td>2338088</td>\n",
       "      <td>-3715503</td>\n",
       "      <td>95977</td>\n",
       "    </tr>\n",
       "    <tr>\n",
       "      <th>2</th>\n",
       "      <td>802689</td>\n",
       "      <td>2337952</td>\n",
       "      <td>-3715298</td>\n",
       "      <td>96241</td>\n",
       "    </tr>\n",
       "    <tr>\n",
       "      <th>3</th>\n",
       "      <td>802900</td>\n",
       "      <td>2337979</td>\n",
       "      <td>-3715180</td>\n",
       "      <td>96393</td>\n",
       "    </tr>\n",
       "    <tr>\n",
       "      <th>4</th>\n",
       "      <td>802992</td>\n",
       "      <td>2337956</td>\n",
       "      <td>-3715525</td>\n",
       "      <td>96209</td>\n",
       "    </tr>\n",
       "    <tr>\n",
       "      <th>...</th>\n",
       "      <td>...</td>\n",
       "      <td>...</td>\n",
       "      <td>...</td>\n",
       "      <td>...</td>\n",
       "    </tr>\n",
       "    <tr>\n",
       "      <th>258</th>\n",
       "      <td>816384</td>\n",
       "      <td>2336708</td>\n",
       "      <td>-3720851</td>\n",
       "      <td>94586</td>\n",
       "    </tr>\n",
       "    <tr>\n",
       "      <th>259</th>\n",
       "      <td>816383</td>\n",
       "      <td>2336631</td>\n",
       "      <td>-3721049</td>\n",
       "      <td>94728</td>\n",
       "    </tr>\n",
       "    <tr>\n",
       "      <th>260</th>\n",
       "      <td>816097</td>\n",
       "      <td>2336577</td>\n",
       "      <td>-3721211</td>\n",
       "      <td>94485</td>\n",
       "    </tr>\n",
       "    <tr>\n",
       "      <th>261</th>\n",
       "      <td>816609</td>\n",
       "      <td>2336239</td>\n",
       "      <td>-3721393</td>\n",
       "      <td>94464</td>\n",
       "    </tr>\n",
       "    <tr>\n",
       "      <th>262</th>\n",
       "      <td>816862</td>\n",
       "      <td>2336404</td>\n",
       "      <td>-3721473</td>\n",
       "      <td>94798</td>\n",
       "    </tr>\n",
       "  </tbody>\n",
       "</table>\n",
       "<p>263 rows × 4 columns</p>\n",
       "</div>"
      ],
      "text/plain": [
       "          5        6        7      8\n",
       "0    802141  2337943 -3715136  95644\n",
       "1    802386  2338088 -3715503  95977\n",
       "2    802689  2337952 -3715298  96241\n",
       "3    802900  2337979 -3715180  96393\n",
       "4    802992  2337956 -3715525  96209\n",
       "..      ...      ...      ...    ...\n",
       "258  816384  2336708 -3720851  94586\n",
       "259  816383  2336631 -3721049  94728\n",
       "260  816097  2336577 -3721211  94485\n",
       "261  816609  2336239 -3721393  94464\n",
       "262  816862  2336404 -3721473  94798\n",
       "\n",
       "[263 rows x 4 columns]"
      ]
     },
     "execution_count": 14,
     "metadata": {},
     "output_type": "execute_result"
    }
   ],
   "source": [
    "raw_data = pd.read_csv('data/sem_carga',  sep=\", | -> \", names = [\"timestamp\", \"intern_clock\", 7, 6, 8, 5, 3, 1, 2, 4], engine = \"python\")\n",
    "cols = [\"timestamp\", \"intern_clock\", 1, 2, 3, 4, 5, 6, 7, 8]\n",
    "raw_data = raw_data[cols]\n",
    "raw_data.drop('intern_clock', inplace=True, axis=1)\n",
    "raw_data.drop('timestamp', inplace=True, axis=1)\n",
    "raw_data = raw_data.astype({1:\"int\", 2:\"int\", 3:\"int\", 4:\"int\", 5:\"int\", 6:\"int\", 7:\"int\", 8:\"int\"})\n",
    "raw_data.drop(1, inplace=True, axis=1)\n",
    "raw_data.drop(2, inplace=True, axis=1)\n",
    "raw_data.drop(3, inplace=True, axis=1)\n",
    "raw_data.drop(4, inplace=True, axis=1)\n",
    "raw_data"
   ]
  },
  {
   "cell_type": "markdown",
   "id": "4c696ba8-6972-45cf-ac45-5a3eb6e8b30c",
   "metadata": {},
   "source": [
    "Extraindo médias para fazer \"tara\" dos sensores."
   ]
  },
  {
   "cell_type": "code",
   "execution_count": 15,
   "id": "e2603df2-0039-4f21-8c34-dbfcc2262245",
   "metadata": {
    "tags": []
   },
   "outputs": [
    {
     "data": {
      "text/plain": [
       "5    8.098834e+05\n",
       "6    2.337495e+06\n",
       "7   -3.719232e+06\n",
       "8    9.581695e+04\n",
       "dtype: float64"
      ]
     },
     "execution_count": 15,
     "metadata": {},
     "output_type": "execute_result"
    }
   ],
   "source": [
    "tara = raw_data.sum()/raw_data.shape[0]\n",
    "tara"
   ]
  },
  {
   "cell_type": "markdown",
   "id": "a65088ac-ed7b-4714-ac0e-b41a9d535f7d",
   "metadata": {},
   "source": [
    "Os valores encontrados na última operação podem ser usados para corrigir os dados recolhidos pelos sensores."
   ]
  },
  {
   "cell_type": "code",
   "execution_count": 18,
   "id": "7100be82-8bd5-4d0a-b200-f3b99de2724e",
   "metadata": {
    "tags": []
   },
   "outputs": [],
   "source": [
    "tara.to_csv('data/tara.csv', index = False)"
   ]
  },
  {
   "cell_type": "code",
   "execution_count": null,
   "id": "7580c0da-001a-4616-8cd6-87cce98ad37e",
   "metadata": {},
   "outputs": [],
   "source": []
  }
 ],
 "metadata": {
  "kernelspec": {
   "display_name": "Python 3 (ipykernel)",
   "language": "python",
   "name": "python3"
  },
  "language_info": {
   "codemirror_mode": {
    "name": "ipython",
    "version": 3
   },
   "file_extension": ".py",
   "mimetype": "text/x-python",
   "name": "python",
   "nbconvert_exporter": "python",
   "pygments_lexer": "ipython3",
   "version": "3.10.6"
  }
 },
 "nbformat": 4,
 "nbformat_minor": 5
}
