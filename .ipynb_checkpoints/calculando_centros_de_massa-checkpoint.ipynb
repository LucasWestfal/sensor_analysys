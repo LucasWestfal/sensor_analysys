{
 "cells": [
  {
   "cell_type": "markdown",
   "id": "3b2cea7b-ba96-4d5b-8585-1c47b4f1ba6b",
   "metadata": {},
   "source": [
    "## Nos experimentos, as células de carga servem apenas para computar uma estimativa do centro de massa do objeto posto sobre a bancada. Para computado, usamos as posições dos sensores:\n",
    "\n",
    "passo a passo: <https://brasilescola.uol.com.br/fisica/centro-massa.htm>"
   ]
  },
  {
   "cell_type": "code",
   "execution_count": 1,
   "id": "5229360f-290a-4ab8-ae5c-c8a00fae66dd",
   "metadata": {
    "tags": []
   },
   "outputs": [],
   "source": [
    "import numpy as np\n",
    "import pandas as pd"
   ]
  },
  {
   "cell_type": "code",
   "execution_count": 16,
   "id": "4d0383cb-24c6-4e60-aea5-3183443d1e4f",
   "metadata": {
    "tags": []
   },
   "outputs": [],
   "source": [
    "Px = [-90, 90, 90, -90]\n",
    "Py = [120, 120, -120, -120]"
   ]
  },
  {
   "cell_type": "code",
   "execution_count": 17,
   "id": "c7d8636f-4595-42cf-9fcd-5bc889f0d8e0",
   "metadata": {
    "tags": []
   },
   "outputs": [
    {
     "data": {
      "text/html": [
       "<div>\n",
       "<style scoped>\n",
       "    .dataframe tbody tr th:only-of-type {\n",
       "        vertical-align: middle;\n",
       "    }\n",
       "\n",
       "    .dataframe tbody tr th {\n",
       "        vertical-align: top;\n",
       "    }\n",
       "\n",
       "    .dataframe thead th {\n",
       "        text-align: right;\n",
       "    }\n",
       "</style>\n",
       "<table border=\"1\" class=\"dataframe\">\n",
       "  <thead>\n",
       "    <tr style=\"text-align: right;\">\n",
       "      <th></th>\n",
       "      <th>intern_clock</th>\n",
       "      <th>1</th>\n",
       "      <th>2</th>\n",
       "      <th>3</th>\n",
       "      <th>4</th>\n",
       "      <th>5</th>\n",
       "      <th>6</th>\n",
       "      <th>7</th>\n",
       "      <th>8</th>\n",
       "      <th>centro_de_massa_x</th>\n",
       "      <th>centro_de_massa_y</th>\n",
       "    </tr>\n",
       "  </thead>\n",
       "  <tbody>\n",
       "    <tr>\n",
       "      <th>0</th>\n",
       "      <td>2579974.0</td>\n",
       "      <td>-128.0</td>\n",
       "      <td>0.0</td>\n",
       "      <td>-211.0</td>\n",
       "      <td>0.0</td>\n",
       "      <td>-1.914673e+06</td>\n",
       "      <td>55745.103957</td>\n",
       "      <td>90630.916758</td>\n",
       "      <td>54475.478143</td>\n",
       "      <td>0</td>\n",
       "      <td>0</td>\n",
       "    </tr>\n",
       "    <tr>\n",
       "      <th>1</th>\n",
       "      <td>2580978.0</td>\n",
       "      <td>-106.0</td>\n",
       "      <td>1.0</td>\n",
       "      <td>-277.0</td>\n",
       "      <td>0.0</td>\n",
       "      <td>-1.915021e+06</td>\n",
       "      <td>291873.966798</td>\n",
       "      <td>62603.591079</td>\n",
       "      <td>349452.698860</td>\n",
       "      <td>0</td>\n",
       "      <td>0</td>\n",
       "    </tr>\n",
       "    <tr>\n",
       "      <th>2</th>\n",
       "      <td>2581982.0</td>\n",
       "      <td>-137.0</td>\n",
       "      <td>-7.0</td>\n",
       "      <td>-257.0</td>\n",
       "      <td>0.0</td>\n",
       "      <td>-1.719262e+06</td>\n",
       "      <td>163613.166506</td>\n",
       "      <td>245046.351721</td>\n",
       "      <td>277396.928420</td>\n",
       "      <td>0</td>\n",
       "      <td>0</td>\n",
       "    </tr>\n",
       "    <tr>\n",
       "      <th>3</th>\n",
       "      <td>2582986.0</td>\n",
       "      <td>-149.0</td>\n",
       "      <td>-11.0</td>\n",
       "      <td>-145.0</td>\n",
       "      <td>0.0</td>\n",
       "      <td>-1.646613e+06</td>\n",
       "      <td>406.101895</td>\n",
       "      <td>301040.686023</td>\n",
       "      <td>47262.086591</td>\n",
       "      <td>0</td>\n",
       "      <td>0</td>\n",
       "    </tr>\n",
       "    <tr>\n",
       "      <th>4</th>\n",
       "      <td>2583991.0</td>\n",
       "      <td>-161.0</td>\n",
       "      <td>0.0</td>\n",
       "      <td>-271.0</td>\n",
       "      <td>0.0</td>\n",
       "      <td>-1.661692e+06</td>\n",
       "      <td>86611.549261</td>\n",
       "      <td>222450.074356</td>\n",
       "      <td>236391.201913</td>\n",
       "      <td>0</td>\n",
       "      <td>0</td>\n",
       "    </tr>\n",
       "    <tr>\n",
       "      <th>...</th>\n",
       "      <td>...</td>\n",
       "      <td>...</td>\n",
       "      <td>...</td>\n",
       "      <td>...</td>\n",
       "      <td>...</td>\n",
       "      <td>...</td>\n",
       "      <td>...</td>\n",
       "      <td>...</td>\n",
       "      <td>...</td>\n",
       "      <td>...</td>\n",
       "      <td>...</td>\n",
       "    </tr>\n",
       "    <tr>\n",
       "      <th>72</th>\n",
       "      <td>2652274.0</td>\n",
       "      <td>1.0</td>\n",
       "      <td>-154.0</td>\n",
       "      <td>-222.0</td>\n",
       "      <td>0.0</td>\n",
       "      <td>-1.964184e+06</td>\n",
       "      <td>233014.591103</td>\n",
       "      <td>115484.057328</td>\n",
       "      <td>429395.110730</td>\n",
       "      <td>0</td>\n",
       "      <td>0</td>\n",
       "    </tr>\n",
       "    <tr>\n",
       "      <th>73</th>\n",
       "      <td>2653279.0</td>\n",
       "      <td>1.0</td>\n",
       "      <td>-158.0</td>\n",
       "      <td>-262.0</td>\n",
       "      <td>0.0</td>\n",
       "      <td>-1.890260e+06</td>\n",
       "      <td>250800.821956</td>\n",
       "      <td>309466.224880</td>\n",
       "      <td>402632.225842</td>\n",
       "      <td>0</td>\n",
       "      <td>0</td>\n",
       "    </tr>\n",
       "    <tr>\n",
       "      <th>74</th>\n",
       "      <td>2654282.0</td>\n",
       "      <td>1.0</td>\n",
       "      <td>-174.0</td>\n",
       "      <td>1.0</td>\n",
       "      <td>-65.0</td>\n",
       "      <td>-2.062462e+06</td>\n",
       "      <td>351008.297184</td>\n",
       "      <td>77976.900905</td>\n",
       "      <td>267417.201208</td>\n",
       "      <td>0</td>\n",
       "      <td>0</td>\n",
       "    </tr>\n",
       "    <tr>\n",
       "      <th>75</th>\n",
       "      <td>2655287.0</td>\n",
       "      <td>-128.0</td>\n",
       "      <td>-182.0</td>\n",
       "      <td>0.0</td>\n",
       "      <td>-43.0</td>\n",
       "      <td>-2.012743e+06</td>\n",
       "      <td>488461.802261</td>\n",
       "      <td>213208.998627</td>\n",
       "      <td>247603.216848</td>\n",
       "      <td>0</td>\n",
       "      <td>0</td>\n",
       "    </tr>\n",
       "    <tr>\n",
       "      <th>76</th>\n",
       "      <td>2656291.0</td>\n",
       "      <td>-125.0</td>\n",
       "      <td>-191.0</td>\n",
       "      <td>0.0</td>\n",
       "      <td>-6.0</td>\n",
       "      <td>-1.776185e+06</td>\n",
       "      <td>406611.128601</td>\n",
       "      <td>364769.426241</td>\n",
       "      <td>291167.292892</td>\n",
       "      <td>0</td>\n",
       "      <td>0</td>\n",
       "    </tr>\n",
       "  </tbody>\n",
       "</table>\n",
       "<p>77 rows × 11 columns</p>\n",
       "</div>"
      ],
      "text/plain": [
       "    intern_clock      1      2      3     4             5              6  \\\n",
       "0      2579974.0 -128.0    0.0 -211.0   0.0 -1.914673e+06   55745.103957   \n",
       "1      2580978.0 -106.0    1.0 -277.0   0.0 -1.915021e+06  291873.966798   \n",
       "2      2581982.0 -137.0   -7.0 -257.0   0.0 -1.719262e+06  163613.166506   \n",
       "3      2582986.0 -149.0  -11.0 -145.0   0.0 -1.646613e+06     406.101895   \n",
       "4      2583991.0 -161.0    0.0 -271.0   0.0 -1.661692e+06   86611.549261   \n",
       "..           ...    ...    ...    ...   ...           ...            ...   \n",
       "72     2652274.0    1.0 -154.0 -222.0   0.0 -1.964184e+06  233014.591103   \n",
       "73     2653279.0    1.0 -158.0 -262.0   0.0 -1.890260e+06  250800.821956   \n",
       "74     2654282.0    1.0 -174.0    1.0 -65.0 -2.062462e+06  351008.297184   \n",
       "75     2655287.0 -128.0 -182.0    0.0 -43.0 -2.012743e+06  488461.802261   \n",
       "76     2656291.0 -125.0 -191.0    0.0  -6.0 -1.776185e+06  406611.128601   \n",
       "\n",
       "                7              8  centro_de_massa_x  centro_de_massa_y  \n",
       "0    90630.916758   54475.478143                  0                  0  \n",
       "1    62603.591079  349452.698860                  0                  0  \n",
       "2   245046.351721  277396.928420                  0                  0  \n",
       "3   301040.686023   47262.086591                  0                  0  \n",
       "4   222450.074356  236391.201913                  0                  0  \n",
       "..            ...            ...                ...                ...  \n",
       "72  115484.057328  429395.110730                  0                  0  \n",
       "73  309466.224880  402632.225842                  0                  0  \n",
       "74   77976.900905  267417.201208                  0                  0  \n",
       "75  213208.998627  247603.216848                  0                  0  \n",
       "76  364769.426241  291167.292892                  0                  0  \n",
       "\n",
       "[77 rows x 11 columns]"
      ]
     },
     "execution_count": 17,
     "metadata": {},
     "output_type": "execute_result"
    }
   ],
   "source": [
    "# corrigindo dados sem carga\n",
    "\n",
    "data = pd.read_csv('data/com_carga_de_livro_corrigido.csv')\n",
    "data['centro_de_massa_x'] = 0\n",
    "data['centro_de_massa_y'] = 0\n",
    "\n",
    "data"
   ]
  },
  {
   "cell_type": "code",
   "execution_count": 18,
   "id": "3fec8063-17d0-4a37-9ef1-35a34dd4b934",
   "metadata": {
    "tags": []
   },
   "outputs": [
    {
     "name": "stderr",
     "output_type": "stream",
     "text": [
      "/tmp/ipykernel_26568/3811963766.py:2: SettingWithCopyWarning: \n",
      "A value is trying to be set on a copy of a slice from a DataFrame\n",
      "\n",
      "See the caveats in the documentation: https://pandas.pydata.org/pandas-docs/stable/user_guide/indexing.html#returning-a-view-versus-a-copy\n",
      "  data[\"centro_de_massa_x\"][i] = data[\"5\"][i]*Px[0] + data[\"6\"][i]*Px[1] + data[\"7\"][i]*Px[2] + data[\"8\"][i]*Px[3]\n",
      "/tmp/ipykernel_26568/3811963766.py:4: SettingWithCopyWarning: \n",
      "A value is trying to be set on a copy of a slice from a DataFrame\n",
      "\n",
      "See the caveats in the documentation: https://pandas.pydata.org/pandas-docs/stable/user_guide/indexing.html#returning-a-view-versus-a-copy\n",
      "  data[\"centro_de_massa_y\"][i] = data[\"5\"][i]*Py[0] + data[\"6\"][i]*Py[1] + data[\"7\"][i]*Py[2] + data[\"8\"][i]*Py[3]\n"
     ]
    }
   ],
   "source": [
    "for i in range(data.shape[0]):\n",
    "    data[\"centro_de_massa_x\"][i] = data[\"5\"][i]*Px[0] + data[\"6\"][i]*Px[1] + data[\"7\"][i]*Px[2] + data[\"8\"][i]*Px[3]\n",
    "    data[\"centro_de_massa_x\"][i] = data[\"centro_de_massa_x\"][i]/(data[\"5\"][i] + data[\"6\"][i] + data[\"7\"][i] + data[\"8\"][i])\n",
    "    data[\"centro_de_massa_y\"][i] = data[\"5\"][i]*Py[0] + data[\"6\"][i]*Py[1] + data[\"7\"][i]*Py[2] + data[\"8\"][i]*Py[3]\n",
    "    data[\"centro_de_massa_x\"][i] = data[\"centro_de_massa_x\"][i]/(data[\"5\"][i] + data[\"6\"][i] + data[\"7\"][i] + data[\"8\"][i])\n"
   ]
  },
  {
   "cell_type": "code",
   "execution_count": 11,
   "id": "e17fdd55-825c-47b1-8a2f-de8609668141",
   "metadata": {
    "tags": []
   },
   "outputs": [
    {
     "data": {
      "text/plain": [
       "77"
      ]
     },
     "execution_count": 11,
     "metadata": {},
     "output_type": "execute_result"
    }
   ],
   "source": [
    "data.shape[0]"
   ]
  },
  {
   "cell_type": "code",
   "execution_count": 20,
   "id": "e14b02b0-69c9-4a34-8c46-fb56ca302d1a",
   "metadata": {
    "tags": []
   },
   "outputs": [
    {
     "data": {
      "text/plain": [
       "-161.1946846984329"
      ]
     },
     "execution_count": 20,
     "metadata": {},
     "output_type": "execute_result"
    }
   ],
   "source": [
    "a = data[\"5\"][2]*Px[0] + data[\"6\"][2]*Px[1] + data[\"7\"][2]*Px[2] + data[\"8\"][2]*Px[3]\n",
    "a/(data[\"5\"][2] + data[\"6\"][2] + data[\"7\"][2] + data[\"8\"][2])"
   ]
  },
  {
   "cell_type": "markdown",
   "id": "8807df0f-85ea-401b-92c2-b0ab380ef9cb",
   "metadata": {},
   "source": [
    "ta dando tudo errado, mas deve ser culpa do sensor ruim."
   ]
  }
 ],
 "metadata": {
  "kernelspec": {
   "display_name": "Python 3 (ipykernel)",
   "language": "python",
   "name": "python3"
  },
  "language_info": {
   "codemirror_mode": {
    "name": "ipython",
    "version": 3
   },
   "file_extension": ".py",
   "mimetype": "text/x-python",
   "name": "python",
   "nbconvert_exporter": "python",
   "pygments_lexer": "ipython3",
   "version": "3.10.6"
  }
 },
 "nbformat": 4,
 "nbformat_minor": 5
}
