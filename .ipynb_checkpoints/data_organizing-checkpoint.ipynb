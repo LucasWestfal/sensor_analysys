{
 "cells": [
  {
   "cell_type": "code",
   "execution_count": 2,
   "id": "3ac8e0e1-4a03-41a8-bd2e-680fbea7a9e7",
   "metadata": {
    "tags": []
   },
   "outputs": [],
   "source": [
    "import numpy as np\n",
    "import pandas as pd"
   ]
  },
  {
   "cell_type": "markdown",
   "id": "27c35f04-07d0-4441-ba32-218e05bd84cd",
   "metadata": {},
   "source": [
    "Rearanjando e limpando os dados:"
   ]
  },
  {
   "cell_type": "code",
   "execution_count": 71,
   "id": "974fe5aa-7901-4253-82d4-f195abdc9ceb",
   "metadata": {
    "tags": []
   },
   "outputs": [
    {
     "data": {
      "text/html": [
       "<div>\n",
       "<style scoped>\n",
       "    .dataframe tbody tr th:only-of-type {\n",
       "        vertical-align: middle;\n",
       "    }\n",
       "\n",
       "    .dataframe tbody tr th {\n",
       "        vertical-align: top;\n",
       "    }\n",
       "\n",
       "    .dataframe thead th {\n",
       "        text-align: right;\n",
       "    }\n",
       "</style>\n",
       "<table border=\"1\" class=\"dataframe\">\n",
       "  <thead>\n",
       "    <tr style=\"text-align: right;\">\n",
       "      <th></th>\n",
       "      <th>1</th>\n",
       "      <th>2</th>\n",
       "      <th>3</th>\n",
       "      <th>4</th>\n",
       "      <th>5</th>\n",
       "      <th>6</th>\n",
       "      <th>7</th>\n",
       "      <th>8</th>\n",
       "    </tr>\n",
       "  </thead>\n",
       "  <tbody>\n",
       "    <tr>\n",
       "      <th>0</th>\n",
       "      <td>0</td>\n",
       "      <td>0</td>\n",
       "      <td>0</td>\n",
       "      <td>0</td>\n",
       "      <td>625080</td>\n",
       "      <td>2241356</td>\n",
       "      <td>-3838457</td>\n",
       "      <td>-32647</td>\n",
       "    </tr>\n",
       "    <tr>\n",
       "      <th>1</th>\n",
       "      <td>0</td>\n",
       "      <td>0</td>\n",
       "      <td>0</td>\n",
       "      <td>1</td>\n",
       "      <td>625402</td>\n",
       "      <td>2241219</td>\n",
       "      <td>-3838563</td>\n",
       "      <td>-32551</td>\n",
       "    </tr>\n",
       "    <tr>\n",
       "      <th>2</th>\n",
       "      <td>0</td>\n",
       "      <td>0</td>\n",
       "      <td>0</td>\n",
       "      <td>0</td>\n",
       "      <td>625585</td>\n",
       "      <td>2241310</td>\n",
       "      <td>-3838803</td>\n",
       "      <td>-32209</td>\n",
       "    </tr>\n",
       "    <tr>\n",
       "      <th>3</th>\n",
       "      <td>2</td>\n",
       "      <td>1</td>\n",
       "      <td>0</td>\n",
       "      <td>0</td>\n",
       "      <td>625978</td>\n",
       "      <td>2241331</td>\n",
       "      <td>-3838797</td>\n",
       "      <td>-32217</td>\n",
       "    </tr>\n",
       "    <tr>\n",
       "      <th>4</th>\n",
       "      <td>0</td>\n",
       "      <td>0</td>\n",
       "      <td>0</td>\n",
       "      <td>0</td>\n",
       "      <td>626355</td>\n",
       "      <td>2241541</td>\n",
       "      <td>-3838423</td>\n",
       "      <td>-32305</td>\n",
       "    </tr>\n",
       "    <tr>\n",
       "      <th>...</th>\n",
       "      <td>...</td>\n",
       "      <td>...</td>\n",
       "      <td>...</td>\n",
       "      <td>...</td>\n",
       "      <td>...</td>\n",
       "      <td>...</td>\n",
       "      <td>...</td>\n",
       "      <td>...</td>\n",
       "    </tr>\n",
       "    <tr>\n",
       "      <th>368</th>\n",
       "      <td>1</td>\n",
       "      <td>2</td>\n",
       "      <td>0</td>\n",
       "      <td>0</td>\n",
       "      <td>683691</td>\n",
       "      <td>2243088</td>\n",
       "      <td>-3843122</td>\n",
       "      <td>-28880</td>\n",
       "    </tr>\n",
       "    <tr>\n",
       "      <th>369</th>\n",
       "      <td>0</td>\n",
       "      <td>0</td>\n",
       "      <td>0</td>\n",
       "      <td>1</td>\n",
       "      <td>683567</td>\n",
       "      <td>2243382</td>\n",
       "      <td>-3842770</td>\n",
       "      <td>-28914</td>\n",
       "    </tr>\n",
       "    <tr>\n",
       "      <th>370</th>\n",
       "      <td>0</td>\n",
       "      <td>0</td>\n",
       "      <td>0</td>\n",
       "      <td>0</td>\n",
       "      <td>683702</td>\n",
       "      <td>2243418</td>\n",
       "      <td>-3842754</td>\n",
       "      <td>-28871</td>\n",
       "    </tr>\n",
       "    <tr>\n",
       "      <th>371</th>\n",
       "      <td>0</td>\n",
       "      <td>0</td>\n",
       "      <td>0</td>\n",
       "      <td>0</td>\n",
       "      <td>684013</td>\n",
       "      <td>2243223</td>\n",
       "      <td>-3842683</td>\n",
       "      <td>-29353</td>\n",
       "    </tr>\n",
       "    <tr>\n",
       "      <th>372</th>\n",
       "      <td>0</td>\n",
       "      <td>0</td>\n",
       "      <td>0</td>\n",
       "      <td>0</td>\n",
       "      <td>683891</td>\n",
       "      <td>2243047</td>\n",
       "      <td>-3842522</td>\n",
       "      <td>-29765</td>\n",
       "    </tr>\n",
       "  </tbody>\n",
       "</table>\n",
       "<p>373 rows × 8 columns</p>\n",
       "</div>"
      ],
      "text/plain": [
       "     1  2  3  4       5        6        7      8\n",
       "0    0  0  0  0  625080  2241356 -3838457 -32647\n",
       "1    0  0  0  1  625402  2241219 -3838563 -32551\n",
       "2    0  0  0  0  625585  2241310 -3838803 -32209\n",
       "3    2  1  0  0  625978  2241331 -3838797 -32217\n",
       "4    0  0  0  0  626355  2241541 -3838423 -32305\n",
       "..  .. .. .. ..     ...      ...      ...    ...\n",
       "368  1  2  0  0  683691  2243088 -3843122 -28880\n",
       "369  0  0  0  1  683567  2243382 -3842770 -28914\n",
       "370  0  0  0  0  683702  2243418 -3842754 -28871\n",
       "371  0  0  0  0  684013  2243223 -3842683 -29353\n",
       "372  0  0  0  0  683891  2243047 -3842522 -29765\n",
       "\n",
       "[373 rows x 8 columns]"
      ]
     },
     "execution_count": 71,
     "metadata": {},
     "output_type": "execute_result"
    }
   ],
   "source": [
    "raw_data = pd.read_csv('data/com_garrafao_no_centro',  sep=\", | -> \", names = [\"timestamp\", \"intern_clock\", 7, 6, 8, 5, 3, 1, 2, 4], engine = \"python\")\n",
    "cols = [\"timestamp\", \"intern_clock\", 1, 2, 3, 4, 5, 6, 7, 8]\n",
    "raw_data = raw_data[cols]\n",
    "raw_data.drop('intern_clock', inplace=True, axis=1)\n",
    "raw_data.drop('timestamp', inplace=True, axis=1)\n",
    "raw_data = raw_data.astype({1:\"int\", 2:\"int\", 3:\"int\", 4:\"int\", 5:\"int\", 6:\"int\", 7:\"int\", 8:\"int\"})\n",
    "raw_data"
   ]
  },
  {
   "cell_type": "markdown",
   "id": "4c696ba8-6972-45cf-ac45-5a3eb6e8b30c",
   "metadata": {},
   "source": [
    "Extraindo médias para fazer \"tara\" dos sensores."
   ]
  },
  {
   "cell_type": "code",
   "execution_count": 69,
   "id": "0eb0e056-9e6c-42ca-801f-4bb68afd7465",
   "metadata": {
    "tags": []
   },
   "outputs": [
    {
     "data": {
      "text/plain": [
       "373"
      ]
     },
     "execution_count": 69,
     "metadata": {},
     "output_type": "execute_result"
    }
   ],
   "source": [
    "raw_data.shape[0]"
   ]
  },
  {
   "cell_type": "code",
   "execution_count": 70,
   "id": "e2603df2-0039-4f21-8c34-dbfcc2262245",
   "metadata": {
    "tags": []
   },
   "outputs": [
    {
     "name": "stdout",
     "output_type": "stream",
     "text": [
      "1    4.289544e-01\n",
      "2    3.780161e-01\n",
      "3    2.144772e-02\n",
      "4    2.144772e-01\n",
      "5    6.584475e+05\n",
      "6    2.242212e+06\n",
      "7   -3.839744e+06\n",
      "8   -3.014538e+04\n",
      "dtype: float64\n"
     ]
    }
   ],
   "source": [
    "print(raw_data.sum()/raw_data.shape[0])"
   ]
  },
  {
   "cell_type": "markdown",
   "id": "a65088ac-ed7b-4714-ac0e-b41a9d535f7d",
   "metadata": {},
   "source": [
    "Os valores encontrados na última operação podem ser usados para corrigir os dados recolhidos pelos sensores."
   ]
  }
 ],
 "metadata": {
  "kernelspec": {
   "display_name": "Python 3 (ipykernel)",
   "language": "python",
   "name": "python3"
  },
  "language_info": {
   "codemirror_mode": {
    "name": "ipython",
    "version": 3
   },
   "file_extension": ".py",
   "mimetype": "text/x-python",
   "name": "python",
   "nbconvert_exporter": "python",
   "pygments_lexer": "ipython3",
   "version": "3.10.6"
  }
 },
 "nbformat": 4,
 "nbformat_minor": 5
}
