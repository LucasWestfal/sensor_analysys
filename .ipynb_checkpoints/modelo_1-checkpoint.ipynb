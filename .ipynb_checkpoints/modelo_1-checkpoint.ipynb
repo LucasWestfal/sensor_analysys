{
 "cells": [
  {
   "cell_type": "markdown",
   "id": "f95bdad2-7210-46fc-a9ad-78b11a8c3467",
   "metadata": {},
   "source": [
    "## Modelo 1\n",
    "\n",
    "código de <https://www.bayesianmodelsforastrophysicaldata.com/code-4-7>"
   ]
  },
  {
   "cell_type": "code",
   "execution_count": 69,
   "id": "ca00b677-5651-4c66-b6bd-80fcaeebe53e",
   "metadata": {
    "tags": []
   },
   "outputs": [],
   "source": [
    "import stan\n",
    "import matplotlib.pyplot as plt\n",
    "import seaborn as sns\n",
    "import pandas as pd\n",
    "import numpy as np\n",
    "\n",
    "sns.set()  # Nice plot aesthetic\n",
    "np.random.seed(101)\n",
    "\n",
    "model = \"\"\"\n",
    "data {\n",
    "    int<lower=0> N;\n",
    "    vector[N] x;\n",
    "    vector[N] y;\n",
    "}\n",
    "parameters {\n",
    "    real alpha;\n",
    "    real beta;\n",
    "    real<lower=0> sigma;\n",
    "}\n",
    "model {\n",
    "    y ~ normal(alpha + beta * x, sigma);\n",
    "}\n",
    "\"\"\""
   ]
  },
  {
   "cell_type": "code",
   "execution_count": 20,
   "id": "48cae94d-599c-47e0-ad85-7a3493eb1541",
   "metadata": {
    "tags": []
   },
   "outputs": [],
   "source": [
    "# pra fazer os negócios funcionar\n",
    "import nest_asyncio\n",
    "nest_asyncio.apply()\n",
    "\n",
    "# pra sumir com os warnings\n",
    "import warnings\n",
    "warnings.filterwarnings('ignore')  # não deu certo :("
   ]
  },
  {
   "cell_type": "code",
   "execution_count": null,
   "id": "9176d00e-7fd0-4331-bcb9-401fb0f8c607",
   "metadata": {},
   "outputs": [],
   "source": [
    "\n",
    "\n"
   ]
  },
  {
   "cell_type": "code",
   "execution_count": null,
   "id": "ef4b0ae1-98aa-4a3c-a0b4-24349ae02d8f",
   "metadata": {},
   "outputs": [],
   "source": [
    "# Stan code\n",
    "stan_code = \"\"\"\n",
    "data {\n",
    "    int<lower=1> k;  \n",
    "    int<lower=0> nobs;                                 \n",
    "    matrix[nobs, k] x;                     \n",
    "    vector[nobs] y;                     \n",
    "}\n",
    "parameters {\n",
    "    matrix[k,1] beta;                                             \n",
    "    real<lower=0> sigma;               \n",
    "}\n",
    "transformed parameters{\n",
    "    matrix[nobs,1] mu;\n",
    "    vector[nobs] mu2;\n",
    "\n",
    "    mu = x * beta;\n",
    "    mu2 = to_vector(mu);                          # normal distribution \n",
    "                                                                 # does not take matrices as input\n",
    "}\n",
    "model {\n",
    "    for (i in 1:k){                                        # Diffuse normal priors for predictors\n",
    "        beta[i] ~ normal(0.0, 100);\n",
    "    }\n",
    "\n",
    "\n",
    "    sigma ~ uniform(0, 100);                      # Uniform prior for standard deviation\n",
    "\n",
    "    y ~ normal(mu2, sigma);                      # Likelihood function\n",
    "}\n",
    "\"\"\""
   ]
  },
  {
   "cell_type": "code",
   "execution_count": 23,
   "id": "ef1d8351-4286-4586-815c-f83fe7e5e603",
   "metadata": {
    "tags": []
   },
   "outputs": [
    {
     "name": "stderr",
     "output_type": "stream",
     "text": [
      "\u001b[32mBuilding:\u001b[0m found in cache, done.\n",
      "\u001b[36mMessages from \u001b[0m\u001b[36;1mstanc\u001b[0m\u001b[36m:\u001b[0m\n",
      "Warning: The parameter sigma has no priors. This means either no prior is\n",
      "    provided, or the prior(s) depend on data variables. In the later case,\n",
      "    this may be a false positive.\n",
      "Warning: The parameter beta has no priors. This means either no prior is\n",
      "    provided, or the prior(s) depend on data variables. In the later case,\n",
      "    this may be a false positive.\n",
      "Warning: The parameter alpha has no priors. This means either no prior is\n",
      "    provided, or the prior(s) depend on data variables. In the later case,\n",
      "    this may be a false positive.\n",
      "\u001b[32mBuilding:\u001b[0m found in cache, done.\n",
      "\u001b[36mMessages from \u001b[0m\u001b[36;1mstanc\u001b[0m\u001b[36m:\u001b[0m\n",
      "Warning: The parameter sigma has no priors. This means either no prior is\n",
      "    provided, or the prior(s) depend on data variables. In the later case,\n",
      "    this may be a false positive.\n",
      "Warning: The parameter beta has no priors. This means either no prior is\n",
      "    provided, or the prior(s) depend on data variables. In the later case,\n",
      "    this may be a false positive.\n",
      "Warning: The parameter alpha has no priors. This means either no prior is\n",
      "    provided, or the prior(s) depend on data variables. In the later case,\n",
      "    this may be a false positive.\n",
      "\u001b[36mSampling:\u001b[0m   0%\n",
      "\u001b[1A\u001b[0J\u001b[32mSampling:\u001b[0m 100%, done.\n",
      "\u001b[36mMessages received during sampling:\u001b[0m\n",
      "  Gradient evaluation took 7e-06 seconds\n",
      "  1000 transitions using 10 leapfrog steps per transition would take 0.07 seconds.\n",
      "  Adjust your expectations accordingly!\n",
      "  Gradient evaluation took 7e-06 seconds\n",
      "  1000 transitions using 10 leapfrog steps per transition would take 0.07 seconds.\n",
      "  Adjust your expectations accordingly!\n",
      "  Gradient evaluation took 9e-06 seconds\n",
      "  1000 transitions using 10 leapfrog steps per transition would take 0.09 seconds.\n",
      "  Adjust your expectations accordingly!\n",
      "  Gradient evaluation took 5e-06 seconds\n",
      "  1000 transitions using 10 leapfrog steps per transition would take 0.05 seconds.\n",
      "  Adjust your expectations accordingly!\n",
      "  Informational Message: The current Metropolis proposal is about to be rejected because of the following issue:\n",
      "  Exception: normal_lpdf: Scale parameter is 0, but must be positive! (in '/tmp/httpstan_yw4yf_7i/model_xxple4s5.stan', line 13, column 4 to column 40)\n",
      "  If this warning occurs sporadically, such as for highly constrained variable types like covariance matrices, then the sampler is fine,\n",
      "  but if this warning occurs often then your model may be either severely ill-conditioned or misspecified.\n"
     ]
    },
    {
     "data": {
      "text/plain": [
       "<stan.Fit>\n",
       "Parameters:\n",
       "    alpha: ()\n",
       "    beta: ()\n",
       "    sigma: ()\n",
       "Draws: 4000"
      ]
     },
     "execution_count": 23,
     "metadata": {},
     "output_type": "execute_result"
    }
   ],
   "source": [
    "# Put our data in a dictionary\n",
    "data = {'N': len(x), 'x': x, 'y': y}\n",
    "\n",
    "\n",
    "# Compile the model\n",
    "sm = stan.build(model, data=data, random_seed=1)\n",
    "\n",
    "# Train the model and generate samples\n",
    "posterior = stan.build(model, data=data, random_seed=1)\n",
    "fit = posterior.sample(num_chains=4, num_samples=1000)\n",
    "fit #[\"eta\"]  # array with shape (8, 4000)\n"
   ]
  },
  {
   "cell_type": "code",
   "execution_count": 65,
   "id": "4c0f4004-7459-4ad4-8037-e952fd4a200b",
   "metadata": {},
   "outputs": [],
   "source": [
    "alpha = fit['alpha'].reshape(4000,)\n",
    "beta = fit['beta'].reshape(4000,)\n",
    "sigma = fit['sigma'].reshape(4000,)"
   ]
  },
  {
   "cell_type": "code",
   "execution_count": null,
   "id": "665c2b04-cfa1-4dfd-8626-e4c383a7cd2c",
   "metadata": {
    "tags": []
   },
   "outputs": [],
   "source": []
  },
  {
   "cell_type": "code",
   "execution_count": 66,
   "id": "172f4cf3-b512-4e11-a325-c11cc572c955",
   "metadata": {
    "tags": []
   },
   "outputs": [
    {
     "data": {
      "image/png": "[encoded data removed]",
      "text/plain": [
       "<Figure size 640x480 with 1 Axes>"
      ]
     },
     "metadata": {},
     "output_type": "display_data"
    }
   ],
   "source": [
    "x_plot = np.linspace(x.min(), x.max(), 100)\n",
    "plt.scatter(x,y)\n",
    "for i in np.random.randint(0, len(alpha), 1000):\n",
    "  plt.plot(x_plot, alpha[i] + beta[i] * x_plot, color='lightsteelblue', \n",
    "           alpha=0.005)"
   ]
  }
 ],
 "metadata": {
  "kernelspec": {
   "display_name": "Python 3 (ipykernel)",
   "language": "python",
   "name": "python3"
  },
  "language_info": {
   "codemirror_mode": {
    "name": "ipython",
    "version": 3
   },
   "file_extension": ".py",
   "mimetype": "text/x-python",
   "name": "python",
   "nbconvert_exporter": "python",
   "pygments_lexer": "ipython3",
   "version": "3.10.6"
  }
 },
 "nbformat": 4,
 "nbformat_minor": 5
}
